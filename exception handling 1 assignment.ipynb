{
 "cells": [
  {
   "cell_type": "code",
   "execution_count": 1,
   "id": "a545ac4e-b86f-45c1-aa3b-7e5e25420e24",
   "metadata": {},
   "outputs": [],
   "source": [
    "#Q.1\n",
    "#ANS :Exception handling in Python refers to the mechanism that allows you to handle and respond to runtime errors, also known as exceptions, gracefully. Exceptions are unexpected or erroneous events that can occur during the execution of a program. These errors can occur for various reasons, such as invalid input, file not found, division by zero, and more. Python provides a way to detect and handle these exceptions so that your program can continue running without crashing.\n",
    "#Now, let's discuss the difference between exceptions and syntax errors:\n",
    "\n",
    "#Exceptions:\n",
    "\n",
    "#Cause: Exceptions occur during the runtime of a program when something unexpected happens, such as trying to divide by zero or accessing a non-existent file.\n",
    "\n",
    "#Handling: Exceptions can be handled using try, except, else, and finally blocks, allowing you to respond to errors gracefully and continue program execution.\n",
    "\n",
    "#Example: ZeroDivisionError, ValueError, FileNotFoundError, IndexError, etc., are examples of exceptions.\n",
    "\n",
    "#Syntax Errors:\n",
    "\n",
    "#Cause: Syntax errors occur during the compilation of the program, before it is executed. They are caused by violations of the Python language's syntax rules.\n",
    "\n",
    "#Handling: Syntax errors must be fixed in the code before the program can run. They cannot be handled using exception handling constructs.\n",
    "\n",
    "#Example: Missing colons, unmatched parentheses, undefined variables, and other violations of Python's syntax rules result in syntax errors.\n",
    "\n",
    "#In summary, exceptions are errors that occur during program execution due to unexpected conditions, and they can be handled using exception handling constructs like try and except. Syntax errors, on the other hand, are errors in the code's structure or syntax, and they must be fixed before the program can be executed.\n",
    "\n",
    "\n",
    "\n",
    "\n",
    "\n"
   ]
  },
  {
   "cell_type": "code",
   "execution_count": 2,
   "id": "cc9fdba8-7a6c-43c2-8c5c-0aac036cad98",
   "metadata": {},
   "outputs": [
    {
     "ename": "ZeroDivisionError",
     "evalue": "division by zero",
     "output_type": "error",
     "traceback": [
      "\u001b[0;31m---------------------------------------------------------------------------\u001b[0m",
      "\u001b[0;31mZeroDivisionError\u001b[0m                         Traceback (most recent call last)",
      "Cell \u001b[0;32mIn[2], line 8\u001b[0m\n\u001b[1;32m      5\u001b[0m     result \u001b[38;5;241m=\u001b[39m a \u001b[38;5;241m/\u001b[39m b \n\u001b[1;32m      7\u001b[0m \u001b[38;5;28;01mtry\u001b[39;00m :\n\u001b[0;32m----> 8\u001b[0m     \u001b[43mdivide\u001b[49m\u001b[43m(\u001b[49m\u001b[38;5;241;43m10\u001b[39;49m\u001b[43m \u001b[49m\u001b[43m,\u001b[49m\u001b[43m \u001b[49m\u001b[38;5;241;43m0\u001b[39;49m\u001b[43m)\u001b[49m\n\u001b[1;32m      9\u001b[0m     \u001b[38;5;28mprint\u001b[39m(\u001b[38;5;124m\"\u001b[39m\u001b[38;5;124mdivision successfully\u001b[39m\u001b[38;5;124m\"\u001b[39m)\n\u001b[1;32m     10\u001b[0m \u001b[38;5;28;01mexcept\u001b[39;00m \u001b[38;5;167;01mValueError\u001b[39;00m:\n",
      "Cell \u001b[0;32mIn[2], line 5\u001b[0m, in \u001b[0;36mdivide\u001b[0;34m(a, b)\u001b[0m\n\u001b[1;32m      4\u001b[0m \u001b[38;5;28;01mdef\u001b[39;00m \u001b[38;5;21mdivide\u001b[39m (a,b):\n\u001b[0;32m----> 5\u001b[0m     result \u001b[38;5;241m=\u001b[39m \u001b[43ma\u001b[49m\u001b[43m \u001b[49m\u001b[38;5;241;43m/\u001b[39;49m\u001b[43m \u001b[49m\u001b[43mb\u001b[49m\n",
      "\u001b[0;31mZeroDivisionError\u001b[0m: division by zero"
     ]
    }
   ],
   "source": [
    "#Q.2\n",
    "#ANS :When an exception is not handled in a Python program, it propagates up the call stack until it encounters an appropriate exception handler or until the program terminates. If no suitable handler is found, the program will terminate abruptly, and an error message with a traceback will be displayed, indicating the type of exception and the line of code where it occurred. This can be problematic, especially in production systems, as it can result in unexpected crashes and data corruption.\n",
    "#Here's an example to illustrate what happens when an exception is not handled:\n",
    "def divide (a,b):\n",
    "    result = a / b \n",
    "    \n",
    "try :\n",
    "    divide(10 , 0)\n",
    "    print(\"division successfully\")\n",
    "except ValueError:\n",
    "    print(\"a valueerror occured \")\n",
    "\n"
   ]
  },
  {
   "cell_type": "code",
   "execution_count": 3,
   "id": "b9b36ad0-2c7d-49b6-bdf8-61dc30cc99c8",
   "metadata": {},
   "outputs": [],
   "source": [
    "#In this example, the divide function attempts to perform division between two numbers. However, it does not handle the case where the divisor (b) is zero, which would raise a ZeroDivisionError. When we call divide(10, 0), an exception occurs, but there is no suitable except block to catch and handle this exception."
   ]
  },
  {
   "cell_type": "code",
   "execution_count": 4,
   "id": "9da647c8-98be-4f14-800c-6219b33c6908",
   "metadata": {},
   "outputs": [],
   "source": [
    "#Q.3\n",
    "#ANS:In Python, you can use several statements and constructs to detect and handle exceptions. The primary statements for handling exceptions are try, except, else, and finally.\n"
   ]
  },
  {
   "cell_type": "code",
   "execution_count": 5,
   "id": "08b0315a-490b-4a1e-a49a-4363fccf9eba",
   "metadata": {},
   "outputs": [],
   "source": [
    "#example :\n",
    "def divide (a, b ):\n",
    "    try :\n",
    "        result = a / b\n",
    "    except ZeroDivisionError:\n",
    "        print(\"you cant divide by zero\")\n",
    "    except TypeError:\n",
    "        print(\"plese check the data its invalid\")\n",
    "    else :\n",
    "        print(\"division sucessful\")\n",
    "    finally :\n",
    "        print(\"this block always gets executed\")"
   ]
  },
  {
   "cell_type": "code",
   "execution_count": 6,
   "id": "c05dfc31-6a68-4f73-9882-be0d4b5f0d61",
   "metadata": {},
   "outputs": [
    {
     "name": "stdout",
     "output_type": "stream",
     "text": [
      "you cant divide by zero\n",
      "this block always gets executed\n"
     ]
    }
   ],
   "source": [
    "#example 1 : division by zero\n",
    "divide(10 , 0)"
   ]
  },
  {
   "cell_type": "code",
   "execution_count": 7,
   "id": "b075fda0-283c-4482-a9f7-d47adfdc0f5b",
   "metadata": {},
   "outputs": [
    {
     "name": "stdout",
     "output_type": "stream",
     "text": [
      "division sucessful\n",
      "this block always gets executed\n"
     ]
    }
   ],
   "source": [
    "#ex.2 : valid division \n",
    "divide(10 , 2)"
   ]
  },
  {
   "cell_type": "code",
   "execution_count": 8,
   "id": "baf0b339-e597-4957-b2f5-443724344fe4",
   "metadata": {},
   "outputs": [],
   "source": [
    "#Q.4\n",
    "#ANS :1. try and else in Python:\n",
    "\n",
    "#The try and else blocks are often used together. The try block contains code that might raise an exception, and the else block contains code that runs only if no exceptions occur in the try block.\n"
   ]
  },
  {
   "cell_type": "code",
   "execution_count": 9,
   "id": "5b58c967-4ab6-43c6-8aaa-ab5e2179e6f3",
   "metadata": {},
   "outputs": [],
   "source": [
    "#Example using try and else:\n",
    "def divide (a , b):\n",
    "    try :\n",
    "        result = a/ b \n",
    "    except ZeroDivisionError:\n",
    "        print(\"you cant divide by zero\")\n",
    "    else :\n",
    "        print(\"division successful\")"
   ]
  },
  {
   "cell_type": "code",
   "execution_count": 11,
   "id": "9f7e12a8-1d3e-4dc5-a395-4c9805d051bb",
   "metadata": {},
   "outputs": [
    {
     "name": "stdout",
     "output_type": "stream",
     "text": [
      "you cant divide by zero\n"
     ]
    }
   ],
   "source": [
    "#ex. 1 : division by 0 :\n",
    "divide (10 , 0)"
   ]
  },
  {
   "cell_type": "code",
   "execution_count": 12,
   "id": "efff5b60-55ab-4a42-86ab-a4aa2993448e",
   "metadata": {},
   "outputs": [
    {
     "name": "stdout",
     "output_type": "stream",
     "text": [
      "division successful\n"
     ]
    }
   ],
   "source": [
    "#ex. 2 ; valid division :\n",
    "divide (10 , 20)"
   ]
  },
  {
   "cell_type": "code",
   "execution_count": 13,
   "id": "529a1ff5-31bd-4a39-bddd-d78b5dd3894f",
   "metadata": {},
   "outputs": [],
   "source": [
    "#2. finally in Python:\n",
    "#The finally block is used to specify code that should always be executed, regardless of whether an exception occurs or not. It's often used for cleanup operations, like closing files or releasing resources."
   ]
  },
  {
   "cell_type": "code",
   "execution_count": 30,
   "id": "be45d443-4c2f-4352-8095-c9136164776f",
   "metadata": {},
   "outputs": [],
   "source": [
    "#Example using try and finally:\n",
    "def open_file(filename):\n",
    "    try:\n",
    "        file = open(filename, 'r')\n",
    "        content = file.read()\n",
    "        print(\"File content:\", content)\n",
    "    except FileNotFoundError:\n",
    "        print(f\"The file '{filename}' was not found.\")\n",
    "    finally:\n",
    "        if 'file' in locals():\n",
    "            file.close()\n",
    "            print(\"File closed.\")"
   ]
  },
  {
   "cell_type": "code",
   "execution_count": 31,
   "id": "a12cf205-4384-4172-82bc-88fa9effdbdd",
   "metadata": {},
   "outputs": [
    {
     "name": "stdout",
     "output_type": "stream",
     "text": [
      "The file 'sample_txt' was not found.\n"
     ]
    }
   ],
   "source": [
    "#ex.1 : file exist\n",
    "open_file(\"sample_txt\")"
   ]
  },
  {
   "cell_type": "code",
   "execution_count": 32,
   "id": "7e806887-025a-490e-a0ae-75df4f37f8f2",
   "metadata": {},
   "outputs": [],
   "source": [
    " #raise in Python:\n",
    "    #The raise statement is used to manually raise an exception in Python. You can use it to indicate that something unexpected or exceptional has occurred in your code.\n",
    "    "
   ]
  },
  {
   "cell_type": "code",
   "execution_count": 33,
   "id": "7603b143-23da-49ad-b6a4-e6b02d5eb914",
   "metadata": {},
   "outputs": [
    {
     "name": "stdout",
     "output_type": "stream",
     "text": [
      "age cant be negative\n"
     ]
    }
   ],
   "source": [
    "#Example using raise:\n",
    "def check_age(age):\n",
    "    if age < 0 :\n",
    "        raise ValueError(\"age cant be negative\")\n",
    "    return age\n",
    "\n",
    "try :\n",
    "    age = check_age(-5)\n",
    "    print(\"age is:\" , age)\n",
    "except ValueError as ve :\n",
    "    print(ve)"
   ]
  },
  {
   "cell_type": "code",
   "execution_count": 34,
   "id": "647a2c3b-3e58-4ff8-9fa8-3476bd3b489b",
   "metadata": {},
   "outputs": [],
   "source": [
    "#Q.5\n",
    "#ANS:Custom exceptions in Python, also known as user-defined exceptions, are exceptions that you create to handle specific error conditions in your code. While Python provides a wide range of built-in exceptions to cover common errors, there are situations where it makes sense to define your own exceptions to provide more context-specific error handling and make your code more readable and maintainable.\n"
   ]
  },
  {
   "cell_type": "code",
   "execution_count": 35,
   "id": "1cdfeeb1-74cc-4868-894c-1048e62468d1",
   "metadata": {},
   "outputs": [],
   "source": [
    "#Here's why you might need custom exceptions:\n",
    "\n",
    "#Improved Readability: Custom exceptions allow you to give meaningful names to specific error conditions in your code. This makes it easier for developers to understand what went wrong when an exception is raised and how to handle it.\n",
    "\n",
    "#Modularity: By defining custom exceptions, you can encapsulate error-handling logic for specific cases in one place, promoting clean and modular code design.\n",
    "\n",
    "#Consistency: Custom exceptions help maintain consistency in error reporting throughout your codebase, ensuring that similar error conditions are handled uniformly."
   ]
  },
  {
   "cell_type": "code",
   "execution_count": 45,
   "id": "2bca182d-05e7-46b3-90fb-7e331f29171c",
   "metadata": {},
   "outputs": [],
   "source": [
    "class InsufficientBalanceError(Exception):\n",
    "    \"\"\"Custom exception for insufficient balance in an account.\"\"\"\n",
    "    def __init__(self, account_id, balance, amount):\n",
    "        super().__init__(f\"Account {account_id} has insufficient balance ({balance}) to withdraw {amount}.\")\n",
    "\n",
    "class BankAccount:\n",
    "    def __init__(self, account_id, balance):\n",
    "        self.account_id = account_id\n",
    "        self.balance = balance\n",
    "\n",
    "    def withdraw(self, amount):\n",
    "        if amount > self.balance:\n",
    "            raise InsufficientBalanceError(self.account_id, self.balance, amount)\n",
    "        else:\n",
    "            self.balance -= amount\n",
    "            return amount"
   ]
  },
  {
   "cell_type": "code",
   "execution_count": 46,
   "id": "7cd5bbcc-d0c4-4f18-b666-32e178bfd397",
   "metadata": {},
   "outputs": [
    {
     "name": "stdout",
     "output_type": "stream",
     "text": [
      "Account 12345 has insufficient balance (1000) to withdraw 1500.\n"
     ]
    }
   ],
   "source": [
    "try:\n",
    "    account = BankAccount(\"12345\", 1000)\n",
    "    withdrawal_amount = 1500\n",
    "    withdrawn = account.withdraw(withdrawal_amount)\n",
    "    print(f\"Withdrew ${withdrawn}\")\n",
    "except InsufficientBalanceError as e:\n",
    "    print(e)"
   ]
  },
  {
   "cell_type": "code",
   "execution_count": 47,
   "id": "f1397b18-f3bc-4506-ad93-01eecc2afc31",
   "metadata": {},
   "outputs": [],
   "source": [
    "#Q.6\n",
    "#ANS:\n",
    "class InvalidEmailError(Exception):\n",
    "    \"\"\"Custom exception for invalid email addresses.\"\"\"\n",
    "    def __init__(self, email):\n",
    "        super().__init__(f\"Invalid email address: {email}\")\n",
    "\n",
    "def send_email(email):\n",
    "    if \"@\" not in email:\n",
    "        raise InvalidEmailError(email)\n",
    "    # Code to send the email would go here\n",
    "\n",
    "# Example usage of the custom exception\n",
    "try:\n",
    "    email_address = \"user@example\"\n",
    "    send_email(email_address)\n",
    "except InvalidEmailError as e:\n",
    "    print(f\"Error: {e}\")"
   ]
  },
  {
   "cell_type": "code",
   "execution_count": null,
   "id": "60348f67-ddd0-49d5-92e5-622590481d5d",
   "metadata": {},
   "outputs": [],
   "source": []
  }
 ],
 "metadata": {
  "kernelspec": {
   "display_name": "Python 3 (ipykernel)",
   "language": "python",
   "name": "python3"
  },
  "language_info": {
   "codemirror_mode": {
    "name": "ipython",
    "version": 3
   },
   "file_extension": ".py",
   "mimetype": "text/x-python",
   "name": "python",
   "nbconvert_exporter": "python",
   "pygments_lexer": "ipython3",
   "version": "3.10.8"
  }
 },
 "nbformat": 4,
 "nbformat_minor": 5
}
